{
 "cells": [
  {
   "cell_type": "code",
   "execution_count": 19,
   "metadata": {},
   "outputs": [],
   "source": [
    "## Q1)\n",
    "\n",
    "class vehicle:\n",
    "\n",
    "    def __init__(self, name_of_vehicle, max_speed, avgerage_of_speed):\n",
    "\n",
    "        self.name_of_vehicle = name_of_vehicle\n",
    "        self.max_speed = max_speed\n",
    "        self.average_of_speed = avgerage_of_speed\n",
    "\n",
    "    def return_vehicle_details(self):\n",
    "        return self.name_of_vehicle,self.max_speed,self.average_of_speed\n",
    "    \n",
    "   \n"
   ]
  },
  {
   "cell_type": "code",
   "execution_count": 21,
   "metadata": {},
   "outputs": [
    {
     "data": {
      "text/plain": [
       "'honda CBR'"
      ]
     },
     "execution_count": 21,
     "metadata": {},
     "output_type": "execute_result"
    }
   ],
   "source": [
    "vehicle_1.name_of_vehicle"
   ]
  },
  {
   "cell_type": "code",
   "execution_count": 22,
   "metadata": {},
   "outputs": [
    {
     "data": {
      "text/plain": [
       "200"
      ]
     },
     "execution_count": 22,
     "metadata": {},
     "output_type": "execute_result"
    }
   ],
   "source": [
    "vehicle_1.max_speed"
   ]
  },
  {
   "cell_type": "code",
   "execution_count": 23,
   "metadata": {},
   "outputs": [
    {
     "data": {
      "text/plain": [
       "90"
      ]
     },
     "execution_count": 23,
     "metadata": {},
     "output_type": "execute_result"
    }
   ],
   "source": [
    "vehicle_1.average_of_speed"
   ]
  },
  {
   "cell_type": "code",
   "execution_count": 24,
   "metadata": {},
   "outputs": [],
   "source": [
    "## Q2)\n",
    "\n",
    "class vehicle:\n",
    "\n",
    "    def __init__(self, name_of_vehicle, max_speed, avgerage_of_speed):\n",
    "\n",
    "        self.name_of_vehicle = name_of_vehicle\n",
    "        self.max_speed = max_speed\n",
    "        self.average_of_speed = avgerage_of_speed\n",
    "\n",
    "    def return_vehicle_details(self):\n",
    "        return self.name_of_vehicle,self.max_speed,self.average_of_speed\n",
    "\n",
    "class Car(vehicle):\n",
    "\n",
    "    def __init__(self,name_of_vehicle,seating_capacity):\n",
    "        self.seating_capacity = seating_capacity\n",
    "        self.name_of_vehicle = name_of_vehicle\n",
    "    \n",
    "    def return_seating_details(self):\n",
    "        return self.name_of_vehicle,self.seating_capacity\n",
    "\n"
   ]
  },
  {
   "cell_type": "code",
   "execution_count": 28,
   "metadata": {},
   "outputs": [],
   "source": [
    "class_car = Car(\"honda CBR\",2)"
   ]
  },
  {
   "cell_type": "code",
   "execution_count": 31,
   "metadata": {},
   "outputs": [
    {
     "data": {
      "text/plain": [
       "'honda CBR'"
      ]
     },
     "execution_count": 31,
     "metadata": {},
     "output_type": "execute_result"
    }
   ],
   "source": [
    "class_car.name_of_vehicle"
   ]
  },
  {
   "cell_type": "code",
   "execution_count": 32,
   "metadata": {},
   "outputs": [
    {
     "data": {
      "text/plain": [
       "2"
      ]
     },
     "execution_count": 32,
     "metadata": {},
     "output_type": "execute_result"
    }
   ],
   "source": [
    "class_car.seating_capacity"
   ]
  },
  {
   "cell_type": "markdown",
   "metadata": {},
   "source": [
    "Q3)\n",
    "\n",
    "\n",
    "Multiple inheritance is a feature in object-oriented programming where a class can inherit from multiple parent classes. This means that a child class can access and use the attributes and methods from more than one parent class. Multiple inheritance allows you to create complex class hierarchies and reuse code from multiple sources.\n",
    "\n",
    "exampple is given below "
   ]
  },
  {
   "cell_type": "code",
   "execution_count": 33,
   "metadata": {},
   "outputs": [
    {
     "name": "stdout",
     "output_type": "stream",
     "text": [
      "Manufacturer: Toyota, Fuel Type: Petrol, Battery Capacity: 50 kWh\n",
      "Engine started.\n"
     ]
    }
   ],
   "source": [
    "class Engine:\n",
    "    def __init__(self, fuel_type):\n",
    "        self.fuel_type = fuel_type\n",
    "\n",
    "    def start(self):\n",
    "        return \"Engine started.\"\n",
    "\n",
    "\n",
    "class ElectricMotor:\n",
    "    def __init__(self, battery_capacity):\n",
    "        self.battery_capacity = battery_capacity\n",
    "\n",
    "    def start(self):\n",
    "        return \"Electric motor started.\"\n",
    "\n",
    "\n",
    "class HybridCar(Engine, ElectricMotor):\n",
    "    def __init__(self, fuel_type, battery_capacity, manufacturer):\n",
    "        Engine.__init__(self, fuel_type)\n",
    "        ElectricMotor.__init__(self, battery_capacity)\n",
    "        self.manufacturer = manufacturer\n",
    "\n",
    "    def display_info(self):\n",
    "        return f\"Manufacturer: {self.manufacturer}, Fuel Type: {self.fuel_type}, Battery Capacity: {self.battery_capacity}\"\n",
    "\n",
    "\n",
    "# Example usage:\n",
    "if __name__ == \"__main__\":\n",
    "    hybrid_car = HybridCar(\"Petrol\", \"50 kWh\", \"Toyota\")\n",
    "    print(hybrid_car.display_info())\n",
    "    print(hybrid_car.start())  # Output: Electric motor started.\n"
   ]
  },
  {
   "cell_type": "markdown",
   "metadata": {},
   "source": [
    "Q4)\n",
    "\n",
    "In Python, getters and setters are methods that allow controlled access to the attributes (instance variables) of a class. They provide a way to get the value of an attribute (getter) and set the value of an attribute (setter) while enforcing certain conditions or validations if needed.\n",
    "\n",
    "Getters have the naming convention get_<attribute_name> and are used to access the value of an attribute. They typically return the value of the attribute.\n",
    "\n",
    "Setters have the naming convention set_<attribute_name> and are used to set the value of an attribute. They often include validations or conditions to ensure that the assigned value is appropriate.\n",
    "\n",
    "example is given below"
   ]
  },
  {
   "cell_type": "code",
   "execution_count": 34,
   "metadata": {},
   "outputs": [
    {
     "name": "stdout",
     "output_type": "stream",
     "text": [
      "30\n",
      "35\n",
      "Invalid age value. Age should be an integer between 0 and 120.\n"
     ]
    }
   ],
   "source": [
    "class Person:\n",
    "    def __init__(self, name, age):\n",
    "        self.name = name\n",
    "        self._age = age  # We use a single underscore to indicate that this attribute is intended to be \"protected.\"\n",
    "\n",
    "    def get_age(self):\n",
    "        return self._age\n",
    "\n",
    "    def set_age(self, new_age):\n",
    "        if isinstance(new_age, int) and 0 <= new_age <= 120:\n",
    "            self._age = new_age\n",
    "        else:\n",
    "            print(\"Invalid age value. Age should be an integer between 0 and 120.\")\n",
    "\n",
    "    def display_info(self):\n",
    "        return f\"Name: {self.name}, Age: {self._age}\"\n",
    "\n",
    "\n",
    "# Example usage:\n",
    "if __name__ == \"__main__\":\n",
    "    person = Person(\"Alice\", 30)\n",
    "\n",
    "    print(person.get_age())  # Output: 30\n",
    "\n",
    "    person.set_age(35)\n",
    "    print(person.get_age())  # Output: 35\n",
    "\n",
    "    person.set_age(150)  # Output: Invalid age value. Age should be an integer between 0 and 120.\n"
   ]
  },
  {
   "cell_type": "markdown",
   "metadata": {},
   "source": [
    "Q5)\n",
    "\n",
    "Method overriding is a concept in object-oriented programming where a subclass provides a specific implementation for a method that is already defined in its superclass. When a method is overridden, the version of the method in the subclass takes precedence over the version in the superclass, allowing the subclass to customize the behavior of the method.\n",
    "\n",
    "example is given below"
   ]
  },
  {
   "cell_type": "code",
   "execution_count": 35,
   "metadata": {},
   "outputs": [
    {
     "name": "stdout",
     "output_type": "stream",
     "text": [
      "Area of Shape: 0\n",
      "Area of Rectangle: 15\n"
     ]
    }
   ],
   "source": [
    "class Shape:\n",
    "    def area(self):\n",
    "        return 0  # Default implementation for the area method in the base class\n",
    "\n",
    "\n",
    "class Rectangle(Shape):\n",
    "    def __init__(self, length, width):\n",
    "        self.length = length\n",
    "        self.width = width\n",
    "\n",
    "    def area(self):\n",
    "        return self.length * self.width  # Specific implementation for the area method in the Rectangle subclass\n",
    "\n",
    "\n",
    "# Example usage:\n",
    "if __name__ == \"__main__\":\n",
    "    shape = Shape()\n",
    "    print(\"Area of Shape:\", shape.area())  # Output: Area of Shape: 0\n",
    "\n",
    "    rectangle = Rectangle(5, 3)\n",
    "    print(\"Area of Rectangle:\", rectangle.area())  # Output: Area of Rectangle: 15\n"
   ]
  },
  {
   "cell_type": "code",
   "execution_count": null,
   "metadata": {},
   "outputs": [],
   "source": []
  }
 ],
 "metadata": {
  "kernelspec": {
   "display_name": "base",
   "language": "python",
   "name": "python3"
  },
  "language_info": {
   "codemirror_mode": {
    "name": "ipython",
    "version": 3
   },
   "file_extension": ".py",
   "mimetype": "text/x-python",
   "name": "python",
   "nbconvert_exporter": "python",
   "pygments_lexer": "ipython3",
   "version": "3.9.13"
  },
  "orig_nbformat": 4
 },
 "nbformat": 4,
 "nbformat_minor": 2
}
