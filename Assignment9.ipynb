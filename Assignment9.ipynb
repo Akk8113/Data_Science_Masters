{
 "cells": [
  {
   "cell_type": "markdown",
   "metadata": {},
   "source": [
    "Q1)\n",
    "\n",
    "    Flask is a Python-based web framework that allows developers to create web applications quickly and easily.\n",
    "\n",
    "Some of the advantages of using Flask include:\n",
    "\n",
    "- Lightweight: Flask is a lightweight framework that does not require a lot of resources to run, making it ideal for small and medium-sized projects.\n",
    "\n",
    "- Simple: Flask is easy to learn and use, even for developers who are new to web development.\n",
    "\n",
    "- Versatile: Flask can be used to create a wide variety of web applications, from simple websites to complex APIs.\n",
    "\n",
    "- Extensible: Flask is extensible and can be customized to meet the needs of specific projects.\n",
    "\n",
    "- Secure: Flask includes a number of security features that help protect web applications from attacks.\n"
   ]
  },
  {
   "cell_type": "markdown",
   "metadata": {},
   "source": [
    "Q2)\n",
    "\n",
    "    from flask import Flask, render_template\n",
    "\n",
    "app = Flask(__name__)\n",
    "\n",
    "@app.route(\"/\")\n",
    "def hello_world():\n",
    "    return render_template(\"index.html\")\n",
    "\n",
    "if __name__ == \"__main__\":\n",
    "    app.run(debug=True)\n"
   ]
  },
  {
   "cell_type": "markdown",
   "metadata": {},
   "source": [
    "Q3)\n",
    "\n",
    "    App routing in Flask is the process of defining the URLs that your application will respond to. When a user requests a particular URL, Flask will call the corresponding view function to handle the request and generate a response.\n",
    "\n",
    "    We use app routes to define the different pages or sections of our application. For example, we might have a route for the home page, a route for the about page, and a route for the contact page. Each route will have its own view function that will generate the HTML code for that page.\n",
    "\n",
    "    App routes are also used to pass data between the different pages of our application. For example, we might have a route that takes a username as a parameter and then uses that username to display the user's profile page.\n",
    "\n",
    "    Here is an example of how to define app routes in Flask:\n",
    "\n",
    "\n",
    "    from flask import Flask, render_template\n",
    "​\n",
    "    app = Flask(__name__)\n",
    "​\n",
    "        @app.route(\"/\")\n",
    "        def home():\n",
    "            return render_template(\"home.html\")\n",
    "​\n",
    "        @app.route(\"/about\")\n",
    "        def about():\n",
    "            return render_template(\"about.html\")\n",
    "        ​\n",
    "        @app.route(\"/contact\")\n",
    "        def contact():\n",
    "            return render_template(\"contact.html\")\n",
    "​\n",
    "        if __name__ == \"__main__\":\n",
    "            app.run(debug=True)\n",
    "        ​\n",
    "\n",
    "\n",
    "        In this example, we have defined three routes: one for the home page, one for the about page, and one for the contact page. Each route has its own view function that will generate the HTML code for that page.\n",
    "\n",
    "        When a user requests the home page, Flask will call the `home()` view function and then render the `home.html` template. When a user requests the about page, Flask will call the `about()` view function and then render the `about.html` template. And when a user requests the contact page, Flask will call the `contact()` view function and then render the `contact.html` template."
   ]
  },
  {
   "cell_type": "markdown",
   "metadata": {},
   "source": []
  },
  {
   "cell_type": "markdown",
   "metadata": {},
   "source": [
    "Q4)\n",
    "\n",
    "    from flask import Flask, render_template\n",
    "\n",
    "app = Flask(__name__)\n",
    "\n",
    "@app.route(\"/\")\n",
    "def home():\n",
    "    return render_template(\"index.html\")\n",
    "\n",
    "@app.route(\"/welcome\")\n",
    "def welcome():\n",
    "    return render_template(\"welcome.html\")\n",
    "\n",
    "if __name__ == \"__main__\":\n",
    "    app.run(debug=True)\n"
   ]
  },
  {
   "cell_type": "markdown",
   "metadata": {},
   "source": [
    "Q5)\n",
    "\n",
    "    The `url_for()` function is used in Flask for URL building. It takes a number of arguments, including the name of the view function and any parameters that the view function expects. The following Python code demonstrates the working of the `url_for()` function:\n",
    "\n",
    "\n",
    "    from flask import Flask, url_for\n",
    "\n",
    "app = Flask(__name__)\n",
    "\n",
    "@app.route('/login')\n",
    "def login():\n",
    "    return 'Login Page'\n",
    "\n",
    "@app.route('/profile/<username>')\n",
    "def profile(username):\n",
    "    return 'Profile Page for {}'.format(username)\n",
    "\n",
    "if __name__ == '__main__':\n",
    "    with app.test_request_context():\n",
    "        print(url_for('login'))\n",
    "        print(url_for('profile', username='john'))\n",
    "\n",
    "\n",
    "/login\n",
    "/profile/john\n",
    "\n",
    "\n",
    "\n"
   ]
  },
  {
   "cell_type": "markdown",
   "metadata": {},
   "source": []
  }
 ],
 "metadata": {
  "kernelspec": {
   "display_name": "Python 3",
   "language": "python",
   "name": "python3"
  },
  "language_info": {
   "codemirror_mode": {
    "name": "ipython",
    "version": 3
   },
   "file_extension": ".py",
   "mimetype": "text/x-python",
   "name": "python",
   "nbconvert_exporter": "python",
   "pygments_lexer": "ipython3",
   "version": "3.9.13"
  },
  "orig_nbformat": 4
 },
 "nbformat": 4,
 "nbformat_minor": 2
}
