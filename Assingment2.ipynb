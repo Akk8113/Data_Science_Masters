{
 "cells": [
  {
   "attachments": {},
   "cell_type": "markdown",
   "metadata": {},
   "source": [
    "Q1 \n",
    "\n",
    "In python programming language,the keyword used to create the function is \"def \"name of the funtion\"(Parameters)\"\n",
    "\n",
    "syntax and example is given below in the cell "
   ]
  },
  {
   "cell_type": "code",
   "execution_count": 5,
   "metadata": {},
   "outputs": [
    {
     "name": "stdout",
     "output_type": "stream",
     "text": [
      "Hello, Alice!\n"
     ]
    }
   ],
   "source": [
    "def greet(name):\n",
    "    print(\"Hello, \" + name + \"!\")\n",
    "\n",
    "# Calling the function\n",
    "greet(\"Alice\")\n"
   ]
  },
  {
   "cell_type": "code",
   "execution_count": 55,
   "metadata": {},
   "outputs": [
    {
     "data": {
      "text/plain": [
       "[1, 3, 5, 7, 9, 11, 13, 15, 17, 19, 21, 23, 25]"
      ]
     },
     "execution_count": 55,
     "metadata": {},
     "output_type": "execute_result"
    }
   ],
   "source": [
    "def odd_number():\n",
    "    l = []\n",
    "    for i in range(1,26):\n",
    "        if i%2!=0:\n",
    "            l.append(i)\n",
    "    return l\n",
    "\n",
    "odd_number()"
   ]
  },
  {
   "attachments": {},
   "cell_type": "markdown",
   "metadata": {},
   "source": [
    "Q2)\n",
    "\n",
    "In python, *args and **kwargs are special syntax used in function defenitions to handle a variable number of arguments.\n",
    "\n",
    "*args is used to pass a variable number of non-keyworded arguments to a function. It allows you to pass any number of positional arguments, which are then treated as a tuple within the function. The name args is not mandatory; you can use any name preceded by the asterisk (*).\n",
    "\n",
    "**kwargs is used to pass a variable number of keyword arguments to a function. It allows you to pass any number of keyword arguments, which are then treated as a dictionary within the function. The name kwargs is not mandatory; you can use any name preceded by the double asterisk (**). \n",
    "\n",
    "example of args and kwargs are given below "
   ]
  },
  {
   "cell_type": "code",
   "execution_count": 59,
   "metadata": {},
   "outputs": [
    {
     "data": {
      "text/plain": [
       "[[1, 2, 3, 4, 5, 6], ['arpit', 'kakaiya']]"
      ]
     },
     "execution_count": 59,
     "metadata": {},
     "output_type": "execute_result"
    }
   ],
   "source": [
    "def test4(*args):\n",
    "    l =[]\n",
    "    for i in args:\n",
    "        if type(i)==list:\n",
    "            l.append(i)\n",
    "    return l\n",
    "\n",
    "test4({1,2,3,4,5,6},[1,2,3,4,5,6],[\"arpit\",\"kakaiya\"],1,2,3,4)\n"
   ]
  },
  {
   "cell_type": "code",
   "execution_count": 60,
   "metadata": {},
   "outputs": [
    {
     "data": {
      "text/plain": [
       "('c', [1, 2, 3, 4, 5])"
      ]
     },
     "execution_count": 60,
     "metadata": {},
     "output_type": "execute_result"
    }
   ],
   "source": [
    "def test6(**kwargs):\n",
    "    for i in kwargs.keys():\n",
    "        if type(kwargs[i]) == list:\n",
    "            return i, kwargs[i]\n",
    "        \n",
    "test6( a = 8, b = 9, c = [1,2,3,4,5])"
   ]
  },
  {
   "attachments": {},
   "cell_type": "markdown",
   "metadata": {},
   "source": [
    "Q3 \n",
    "\n",
    "__iter__(): This method is used to initialize the iterator object. It returns the iterator object itself. It is called when the iterator is created.\n",
    "\n",
    "__next__(): This method is used to fetch the next value from the iterator. It returns the next value in the sequence. If there are no more items to return, it raises the StopIteration exception.\n",
    "\n",
    "example of this section is given below"
   ]
  },
  {
   "cell_type": "code",
   "execution_count": 61,
   "metadata": {},
   "outputs": [
    {
     "name": "stdout",
     "output_type": "stream",
     "text": [
      "2\n",
      "4\n",
      "6\n",
      "8\n",
      "10\n"
     ]
    }
   ],
   "source": [
    "class ListIterator:\n",
    "    def __init__(self, lst, num_elements):\n",
    "        self.lst = lst\n",
    "        self.num_elements = num_elements\n",
    "        self.index = 0\n",
    "\n",
    "    def __iter__(self):\n",
    "        return self\n",
    "\n",
    "    def __next__(self):\n",
    "        if self.index < self.num_elements:\n",
    "            result = self.lst[self.index]\n",
    "            self.index += 1\n",
    "            return result\n",
    "        else:\n",
    "            raise StopIteration\n",
    "\n",
    "# Creating the list and iterator object\n",
    "my_list = [2, 4, 6, 8, 10, 12, 14, 16, 18, 20]\n",
    "iterator = ListIterator(my_list, 5)\n",
    "\n",
    "# Iterating through the iterator\n",
    "for element in iterator:\n",
    "    print(element)\n"
   ]
  },
  {
   "attachments": {},
   "cell_type": "markdown",
   "metadata": {},
   "source": [
    "Q4\n",
    "\n",
    "a generator function is a special type of function that returns an iterator object, which can be iterated over to produce a sequence of values. Generator functions are defined using the def keyword, like regular functions, but they use the yield keyword to indicate the values to be generated.\n",
    "\n",
    "When a generator function is called, it returns a generator object without actually executing the body of the function. The generator object can then be iterated over using a loop or other iteration mechanisms, and each time the yield statement is encountered, the function's state is saved, and the value is yielded to the caller. The next time the generator's __next__() method is called, the function resumes execution from where it left off, using the saved state.\n",
    "\n",
    "The main advantage of using generator functions is that they generate values on-the-fly, one at a time, which helps conserve memory resources, especially for large sequences or infinite sequences. They allow efficient iteration without having to store all the values in memory at once.\n",
    "\n",
    "The yield keyword is used in generator functions to define the values to be generated. When the yield statement is encountered, it temporarily suspends the function's execution, saves its internal state, and returns the yielded value to the caller. The function can then be resumed later, picking up from where it left off, to generate the next value.\n",
    "\n",
    "example of generator function is given below"
   ]
  },
  {
   "cell_type": "code",
   "execution_count": 62,
   "metadata": {},
   "outputs": [
    {
     "name": "stdout",
     "output_type": "stream",
     "text": [
      "0\n",
      "1\n",
      "1\n",
      "2\n",
      "3\n",
      "5\n",
      "8\n",
      "13\n",
      "21\n",
      "34\n"
     ]
    }
   ],
   "source": [
    "def test_fib(n):\n",
    "    a,b = 0,1\n",
    "    for i in range(n):\n",
    "        yield a\n",
    "        a,b = b,b+a\n",
    "\n",
    "test_fib(10)\n",
    "\n",
    "for i in test_fib(10):\n",
    "    print(i)"
   ]
  },
  {
   "cell_type": "code",
   "execution_count": 63,
   "metadata": {},
   "outputs": [
    {
     "name": "stdout",
     "output_type": "stream",
     "text": [
      "2\n",
      "3\n",
      "5\n",
      "7\n",
      "11\n",
      "13\n",
      "17\n",
      "19\n",
      "23\n",
      "29\n",
      "31\n",
      "37\n",
      "41\n",
      "43\n",
      "47\n",
      "53\n",
      "59\n",
      "61\n",
      "67\n",
      "71\n"
     ]
    }
   ],
   "source": [
    "# Q5\n",
    "\n",
    "def generate_primes():\n",
    "    primes = []\n",
    "    num = 2\n",
    "    \n",
    "    while True:\n",
    "        is_prime = True\n",
    "        \n",
    "        for prime in primes:\n",
    "            if num % prime == 0:\n",
    "                is_prime = False\n",
    "                break\n",
    "        \n",
    "        if is_prime:\n",
    "            primes.append(num)\n",
    "            yield num\n",
    "        \n",
    "        num += 1\n",
    "        if num >= 1000:\n",
    "            break\n",
    "\n",
    "# Create the generator object\n",
    "prime_generator = generate_primes()\n",
    "\n",
    "# Print the first 20 prime numbers\n",
    "for _ in range(20):\n",
    "    print(next(prime_generator))\n"
   ]
  },
  {
   "cell_type": "code",
   "execution_count": null,
   "metadata": {},
   "outputs": [],
   "source": []
  }
 ],
 "metadata": {
  "kernelspec": {
   "display_name": "base",
   "language": "python",
   "name": "python3"
  },
  "language_info": {
   "codemirror_mode": {
    "name": "ipython",
    "version": 3
   },
   "file_extension": ".py",
   "mimetype": "text/x-python",
   "name": "python",
   "nbconvert_exporter": "python",
   "pygments_lexer": "ipython3",
   "version": "3.9.13"
  },
  "orig_nbformat": 4
 },
 "nbformat": 4,
 "nbformat_minor": 2
}
