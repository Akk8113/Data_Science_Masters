{
 "cells": [
  {
   "cell_type": "markdown",
   "metadata": {},
   "source": [
    "Q1)\n",
    "\n",
    "In object-oriented programming (OOP), a class is a blueprint or a template for creating objects. It defines the properties (attributes) and behaviors (methods) that objects of that class will have. Think of a class as a blueprint for creating objects of a specific type.\n",
    "\n",
    "An object, on the other hand, is an instance of a class. It represents a specific entity or concept in your program. Objects are created based on the class definition and can have unique values for their attributes. Each object created from a class is independent and can have its own state and behavior.\n",
    "\n",
    "example of class and object is given below"
   ]
  },
  {
   "cell_type": "code",
   "execution_count": null,
   "metadata": {},
   "outputs": [],
   "source": [
    "class Car:\n",
    "    def __init__(self, make, model, color, price):\n",
    "        self.make = make\n",
    "        self.model = model\n",
    "        self.color = color\n",
    "        self.price = price\n",
    "        self.engine_status = 'off'\n",
    "    \n",
    "    def start_engine(self):\n",
    "        self.engine_status = 'on'\n",
    "        print('Engine started.')\n",
    "    \n",
    "    def stop_engine(self):\n",
    "        self.engine_status = 'off'\n",
    "        print('Engine stopped.')\n",
    "\n",
    "    def model(self):\n",
    "        self.model\n",
    "    \n",
    "    def honk_horn(self):\n",
    "        print('Honk honk!')\n",
    "\n",
    "# Creating objects of the Car class\n",
    "car1 = Car('Toyota', 'Camry', 'Blue', 25000)\n",
    "car2 = Car('Honda', 'Civic', 'yellow', 22000)\n",
    "\n",
    "# Accessing object attributes\n",
    "print(car1.make)  # Output: Toyota\n",
    "print(car2.color)  # Output: Red\n",
    "\n",
    "# Invoking object methods\n",
    "car1.stop_engine()  # Output: Engine started.\n",
    "car2.honk_horn()  # Output: Honk honk!\n"
   ]
  },
  {
   "cell_type": "markdown",
   "metadata": {},
   "source": [
    "Q2)\n",
    "\n",
    "The four pillars of object-oriented programming (OOP) in Python, as well as in many other programming languages, are:\n",
    "\n",
    "Encapsulation: Encapsulation refers to the bundling of data (attributes) and methods (functions) together within a class. It hides the internal details and provides a public interface to interact with the object. Encapsulation helps in organizing and managing code, as well as in achieving data abstraction and protection.\n",
    "\n",
    "Inheritance: Inheritance is a mechanism that allows a class to inherit the properties (attributes and methods) of another class, known as the superclass or parent class. The class that inherits the properties is called the subclass or child class. Inheritance facilitates code reusability and promotes hierarchical relationships between classes.\n",
    "\n",
    "Polymorphism: Polymorphism means the ability of objects of different classes to respond to the same message or method invocation. It allows objects of different types to be treated uniformly, as long as they support the same interface or share a common superclass. Polymorphism helps in writing flexible and reusable code, as well as in achieving code extensibility.\n",
    "\n",
    "Abstraction: Abstraction is the process of hiding unnecessary details and exposing only essential features of an object or a system. It focuses on creating simplified and generalized representations of real-world objects and concepts. Abstraction helps in managing complexity, improving code maintainability, and providing a high-level view of the system.\n",
    "\n",
    "\n",
    "\n",
    "\n",
    "\n",
    "\n",
    "\n"
   ]
  },
  {
   "cell_type": "markdown",
   "metadata": {},
   "source": [
    "Q3)\n",
    "\n",
    "In Python, the __init__() function is a special method used in classes. It is called the constructor method, and it is automatically invoked when an object is created from a class. The primary purpose of the __init__() function is to initialize the attributes of an object with some initial values.\n",
    "\n",
    "When a new object is created, the __init__() method is called implicitly, and it allows you to define and assign values to the attributes of that object. By providing initial values to the attributes during object creation, you can ensure that the object starts with the desired state.\n",
    "\n",
    "example is given below"
   ]
  },
  {
   "cell_type": "code",
   "execution_count": 1,
   "metadata": {},
   "outputs": [
    {
     "name": "stdout",
     "output_type": "stream",
     "text": [
      "Alice\n",
      "30\n",
      "Hi, my name is Alice and I'm 25 years old.\n",
      "Hi, my name is Bob and I'm 30 years old.\n"
     ]
    }
   ],
   "source": [
    "class Person:\n",
    "    def __init__(self, name, age):\n",
    "        self.name = name\n",
    "        self.age = age\n",
    "    \n",
    "    def introduce(self):\n",
    "        print(f\"Hi, my name is {self.name} and I'm {self.age} years old.\")\n",
    "\n",
    "# Creating objects and initializing attributes using the __init__() method\n",
    "person1 = Person(\"Alice\", 25)\n",
    "person2 = Person(\"Bob\", 30)\n",
    "\n",
    "# Accessing object attributes and invoking methods\n",
    "print(person1.name)  # Output: Alice\n",
    "print(person2.age)  # Output: 30\n",
    "person1.introduce()  # Output: Hi, my name is Alice and I'm 25 years old.\n",
    "person2.introduce()  # Output: Hi, my name is Bob and I'm 30 years old.\n"
   ]
  },
  {
   "cell_type": "markdown",
   "metadata": {},
   "source": [
    "Q4)\n",
    "\n",
    "Here are some reasons why self is used in OOPs concept:-\n",
    "\n",
    "Accessing instance attributes: The self parameter allows you to access the attributes specific to the instance (object) of a class. By using self.attribute_name, you can read or modify the values of attributes belonging to the object. It helps differentiate between the instance attributes and global or local variables within the class.\n",
    "\n",
    "Method invocation: By using self.method_name(), you can invoke other methods defined within the same class. When you call a method on self, it ensures that the method is called on the particular instance of the class rather than on a different instance or globally.\n",
    "\n",
    "Differentiating instance scope: The use of self helps in distinguishing instance variables from local variables within a method. When you assign a value to self.attribute_name within a method, it modifies the instance attribute, whereas assigning a value to a variable without self creates a new local variable.\n",
    "\n",
    "Multiple instances: In OOP, you can create multiple instances of a class, and each instance has its own set of attributes. By using self, you can refer to the attributes and methods specific to the instance where the method is called. It allows for encapsulation and ensures that the correct instance is being operated upon.\n",
    "\n",
    "example is given below"
   ]
  },
  {
   "cell_type": "code",
   "execution_count": 2,
   "metadata": {},
   "outputs": [
    {
     "name": "stdout",
     "output_type": "stream",
     "text": [
      "Hi, my name is Alice and I'm 25 years old.\n"
     ]
    }
   ],
   "source": [
    "class Person:\n",
    "    def __init__(self, name, age):\n",
    "        self.name = name\n",
    "        self.age = age\n",
    "    \n",
    "    def introduce(self):\n",
    "        print(f\"Hi, my name is {self.name} and I'm {self.age} years old.\")\n",
    "\n",
    "person1 = Person(\"Alice\", 25)\n",
    "person1.introduce()  # Output: Hi, my name is Alice and I'm 25 years old.\n"
   ]
  },
  {
   "cell_type": "markdown",
   "metadata": {},
   "source": [
    "Q5)\n",
    "\n",
    "There are several types of inheritance in Python:\n",
    "\n",
    "1) Single Inheritance: In single inheritance, a subclass inherits properties from a single superclass. It forms a simple parent-child relationship between classes.\n",
    "\n",
    "2) Multiple Inheritance: Multiple inheritance occurs when a subclass inherits properties from multiple superclasses. It allows a class to inherit and combine the features of multiple classes.\n",
    "\n",
    "3) Multilevel Inheritance: Multilevel inheritance involves deriving a subclass from another subclass. It forms a hierarchical chain of classes.\n",
    "\n",
    "example of above three are given below"
   ]
  },
  {
   "cell_type": "code",
   "execution_count": 4,
   "metadata": {},
   "outputs": [
    {
     "name": "stdout",
     "output_type": "stream",
     "text": [
      "Brand: Toyota\n",
      "Model: Camry\n"
     ]
    }
   ],
   "source": [
    "## SINGLE INHERITANCE\n",
    "\n",
    "class Vehicle:\n",
    "    def __init__(self, brand):\n",
    "        self.brand = brand\n",
    "    \n",
    "    def display_brand(self):\n",
    "        print(f\"Brand: {self.brand}\")\n",
    "\n",
    "class Car(Vehicle):\n",
    "    def __init__(self, brand, model):\n",
    "        super().__init__(brand)\n",
    "        self.model = model\n",
    "    \n",
    "    def display_model(self):\n",
    "        print(f\"Model: {self.model}\")\n",
    "\n",
    "car = Car(\"Toyota\", \"Camry\")\n",
    "car.display_brand()  # Output: Brand: Toyota\n",
    "car.display_model()  # Output: Model: Camry\n"
   ]
  },
  {
   "cell_type": "code",
   "execution_count": 5,
   "metadata": {},
   "outputs": [
    {
     "name": "stdout",
     "output_type": "stream",
     "text": [
      "Animal speaks\n",
      "Mammal walks\n",
      "Dog barks\n"
     ]
    }
   ],
   "source": [
    "## MUTIPLE INHERITANCE \n",
    "\n",
    "\n",
    "class Animal:\n",
    "    def speak(self):\n",
    "        print(\"Animal speaks\")\n",
    "\n",
    "class Mammal:\n",
    "    def walk(self):\n",
    "        print(\"Mammal walks\")\n",
    "\n",
    "class Dog(Animal, Mammal):\n",
    "    def bark(self):\n",
    "        print(\"Dog barks\")\n",
    "\n",
    "dog = Dog()\n",
    "dog.speak()  # Output: Animal speaks\n",
    "dog.walk()  # Output: Mammal walks\n",
    "dog.bark()  # Output: Dog barks\n"
   ]
  },
  {
   "cell_type": "code",
   "execution_count": 6,
   "metadata": {},
   "outputs": [
    {
     "name": "stdout",
     "output_type": "stream",
     "text": [
      "Animal speaks\n",
      "Dog barks\n",
      "Bulldog guards\n"
     ]
    }
   ],
   "source": [
    "## MULTILEVEL INHERITANCE\n",
    "\n",
    "class Animal:\n",
    "    def speak(self):\n",
    "        print(\"Animal speaks\")\n",
    "\n",
    "class Dog(Animal):\n",
    "    def bark(self):\n",
    "        print(\"Dog barks\")\n",
    "\n",
    "class Bulldog(Dog):\n",
    "    def guard(self):\n",
    "        print(\"Bulldog guards\")\n",
    "\n",
    "bulldog = Bulldog()\n",
    "bulldog.speak()  # Output: Animal speaks\n",
    "bulldog.bark()  # Output: Dog barks\n",
    "bulldog.guard()  # Output: Bulldog guards\n"
   ]
  },
  {
   "cell_type": "code",
   "execution_count": null,
   "metadata": {},
   "outputs": [],
   "source": []
  }
 ],
 "metadata": {
  "kernelspec": {
   "display_name": "Python 3",
   "language": "python",
   "name": "python3"
  },
  "language_info": {
   "codemirror_mode": {
    "name": "ipython",
    "version": 3
   },
   "file_extension": ".py",
   "mimetype": "text/x-python",
   "name": "python",
   "nbconvert_exporter": "python",
   "pygments_lexer": "ipython3",
   "version": "3.9.13"
  },
  "orig_nbformat": 4
 },
 "nbformat": 4,
 "nbformat_minor": 2
}
