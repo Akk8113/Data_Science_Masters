{
 "cells": [
  {
   "attachments": {},
   "cell_type": "markdown",
   "metadata": {},
   "source": [
    "ASSIGNMENT QUESTIONS "
   ]
  },
  {
   "attachments": {},
   "cell_type": "markdown",
   "metadata": {},
   "source": [
    "Q1 \n",
    "\n",
    "Characteristics of the tuples\n",
    "\n",
    "Ordered: The elements in a tuple are ordered, which means each element has a specific position or index within the tuple.\n",
    "\n",
    "Fixed Length: Tuples have a fixed length, meaning the number of elements in a tuple is predetermined at the time of creation.\n",
    "\n",
    "Heterogeneous: Tuples can contain elements of different data types. For example, a tuple can have a combination of numbers, strings, booleans, or other data types.\n",
    "\n",
    "Immutable: Tuples are typically immutable, meaning their values cannot be changed after creation. Once a tuple is defined, you cannot modify its elements individually. However, you can create a new tuple by concatenating or combining existing tuples.\n",
    "\n",
    "Hashable: Tuples are hashable, which means they can be used as keys in dictionaries or elements in sets. This property is useful in scenarios where you need an immutable and unique identifier for a collection of values.\n",
    "\n",
    "Iterability: Tuples are iterable, meaning you can iterate over the elements of a tuple using loops or comprehension. This allows you to perform operations on each element of the tuple.\n",
    "\n",
    "Yes tuples are immutable."
   ]
  },
  {
   "attachments": {},
   "cell_type": "markdown",
   "metadata": {},
   "source": [
    "Q2 \n",
    "\n",
    "The two built in functions in tuples are :\n",
    "    1) .count function\n",
    "    2) .index function\n",
    "\n",
    "\n",
    "tuple.count(value):-\n",
    "This method returns the number of occurrences of a specified value in a tuple. It takes a single argument, which is the value to be counted. The method scans the tuple from start to end and returns the count of occurrences of the specified value.\n",
    "\n",
    "tuple.index(value[, start[, end]]):-\n",
    "\n",
    "This method returns the index of the first occurrence of a specified value in a tuple. It takes one mandatory argument, which is the value to be found. Optionally, you can specify the start and end parameters to define a search range within the tuple.\n",
    "\n",
    "Tuples have two built-in functions as compared to lists because :-\n",
    "\n",
    "Immutability: Tuples are immutable, meaning their values cannot be changed after creation. This immutability allows tuples to be used as hashable and reliable data structures. However, it also limits the operations that can be performed on tuples. Many list methods, such as append(), insert(), or remove(), modify the list in-place, which is not possible with tuples.\n",
    "\n"
   ]
  },
  {
   "cell_type": "code",
   "execution_count": 16,
   "metadata": {},
   "outputs": [
    {
     "name": "stdout",
     "output_type": "stream",
     "text": [
      "3\n",
      "2\n"
     ]
    }
   ],
   "source": [
    "# example of above examples :-\n",
    "\n",
    "my_tuple = (1, 2, 3, 2, 4, 2, 5)\n",
    "count = my_tuple.count(2)\n",
    "print(count)  # Output: 3\n",
    "\n",
    "my_tuple = (10, 20, 30, 40, 50)\n",
    "index = my_tuple.index(30)\n",
    "print(index)  # Output: 2\n",
    "\n"
   ]
  },
  {
   "attachments": {},
   "cell_type": "markdown",
   "metadata": {},
   "source": [
    "Q3 Set is the datatype in python that do not allow duplicate value or data in the set"
   ]
  },
  {
   "cell_type": "code",
   "execution_count": 17,
   "metadata": {},
   "outputs": [
    {
     "data": {
      "text/plain": [
       "{1, 2, 3, 4}"
      ]
     },
     "execution_count": 17,
     "metadata": {},
     "output_type": "execute_result"
    }
   ],
   "source": [
    "l = [1,1,1,2,1,3,1,4,2,1,2,2,2,3,2,4,3,1,3,2,3,3,3,4,4,1,4,2,4,3,4,4]\n",
    "a = l\n",
    "set(a)"
   ]
  },
  {
   "attachments": {},
   "cell_type": "markdown",
   "metadata": {},
   "source": [
    "Q4  \n",
    "\n",
    "1) union() method:-\n",
    "    The union() method returns a new set that contains all the unique elements from the original set as well as the elements from other sets passed as arguments. It does not modify the original set but creates and returns a new set.\n",
    "\n",
    "2) update() method:-\n",
    "    The update() method modifies the original set by adding all the unique elements from other sets passed as arguments. It updates the set in-place and does not create a new set."
   ]
  },
  {
   "cell_type": "code",
   "execution_count": 24,
   "metadata": {},
   "outputs": [
    {
     "name": "stdout",
     "output_type": "stream",
     "text": [
      "{1, 2, 3, 4, 5, 6, 7, 8, 9, 10}\n",
      "{8, 9, 10, 7}\n",
      "{1, 2, 3, 4, 5, 6, 7, 8, 9, 10}\n"
     ]
    }
   ],
   "source": [
    "s1 = {1,2,3,4}\n",
    "s2 = {4,5,6,7}\n",
    "s3 = {7,8,9,10}\n",
    "\n",
    "result_set = s3.union(s1,s2)\n",
    "print(result_set)\n",
    "print(s3)\n",
    "\n",
    "s1 = {1,2,3,4}\n",
    "s2 = {4,5,6,7}\n",
    "s3 = {7,8,9,10}\n",
    "\n",
    "result_set1 = s1.update(s2,s3)\n",
    "\n",
    "print(s1)\n"
   ]
  },
  {
   "attachments": {},
   "cell_type": "markdown",
   "metadata": {},
   "source": [
    "Q5 \n",
    "\n",
    "Dictionaries in python are as follows :-\n",
    "\n",
    "A dictionary is a built-in data structure that stores key-value pairs. It is also known as an associative array or a hash table in other programming languages. Each key in a dictionary is unique, and it is used to retrieve the corresponding value associated with it.\n",
    "Dictionaries are enclosed in curly braces ({}) and consist of comma-separated key-value pairs.\n",
    "\n",
    "Regarding ordered and unordered,the reason behind it is :- \n",
    "\n",
    "It depends on the version of Python. In Python versions prior to 3.7, dictionaries were unordered, meaning the elements were not guaranteed to be in a specific order. However, starting from Python 3.7, dictionaries maintain the order of insertion. This means that the elements in a dictionary will be ordered according to the sequence in which they were added.\n",
    "\n",
    "If you need to preserve the order of elements in a dictionary in older versions of Python or if you want to ensure a specific order in any version, you can use the collections.OrderedDict class from the collections module. It behaves like a regular dictionary but keeps the elements in a specific order based on insertion."
   ]
  },
  {
   "cell_type": "code",
   "execution_count": 25,
   "metadata": {},
   "outputs": [
    {
     "name": "stdout",
     "output_type": "stream",
     "text": [
      "John Doe\n",
      "3.8\n"
     ]
    }
   ],
   "source": [
    "student = {\n",
    "    'name': 'John Doe',\n",
    "    'age': 20,\n",
    "    'major': 'Computer Science',\n",
    "    'gpa': 3.8\n",
    "}\n",
    "\n",
    "print(student['name'])  # Output: John Doe\n",
    "print(student['gpa'])   # Output: 3.8\n"
   ]
  },
  {
   "attachments": {},
   "cell_type": "markdown",
   "metadata": {},
   "source": [
    "Q6\n",
    "\n",
    "Yes nested Dictionary is possible in dictionary data structure in python programming language.\n",
    "\n",
    "example of nested dictionary is given below "
   ]
  },
  {
   "cell_type": "code",
   "execution_count": 30,
   "metadata": {},
   "outputs": [
    {
     "data": {
      "text/plain": [
       "{'name': 'arpit kakaiya',\n",
       " 'semester': 'second semester',\n",
       " 'subject': ['data science', 'big data', 'data analytics']}"
      ]
     },
     "execution_count": 30,
     "metadata": {},
     "output_type": "execute_result"
    }
   ],
   "source": [
    "d4= {'name': 'arpit kakaiya', 'semester' : 'second semester', 'subject': ['data science','big data','data analytics']}\n",
    "d4\n"
   ]
  },
  {
   "cell_type": "code",
   "execution_count": 31,
   "metadata": {},
   "outputs": [
    {
     "data": {
      "text/plain": [
       "['data science', 'big data', 'data analytics']"
      ]
     },
     "execution_count": 31,
     "metadata": {},
     "output_type": "execute_result"
    }
   ],
   "source": [
    "d4['subject']"
   ]
  },
  {
   "cell_type": "code",
   "execution_count": 9,
   "metadata": {},
   "outputs": [
    {
     "name": "stdout",
     "output_type": "stream",
     "text": [
      "{'language': 'Python', 'Course': 'Data Science Masters', 'topics': ['python', 'Machine Learning', 'Deep Learning']}\n"
     ]
    }
   ],
   "source": [
    "# Q7\n",
    "\n",
    "dict1 = {'language': \"Python\",'Course': \"Data Science Masters\"}\n",
    "dict1.setdefault('topics', ['python','Machine Learning','Deep Learning'])\n",
    "\n",
    "print(dict1)\n",
    "\n"
   ]
  },
  {
   "attachments": {},
   "cell_type": "markdown",
   "metadata": {},
   "source": [
    "Q8 \n",
    "\n",
    "In python dictionaries,there are three primary view objects that provides dynamic views of the dictionary's keys,values and key-values pairs.These objects are :-\n",
    "\n",
    " 1) dict_keys: This view object represents the keys of a dictionary. It provides a dynamic view of the keys, reflecting any changes made to the dictionary. It allows you to iterate over the keys or perform operations on them. The dict_keys object can be obtained using the keys() method of a dictionary.\n",
    "\n",
    "2) dict_values: This view object represents the values of a dictionary. It provides a dynamic view of the values, reflecting any changes made to the dictionary. It allows you to iterate over the values or perform operations on them. The dict_values object can be obtained using the values() method of a dictionary.\n",
    "\n",
    "3) dict_items: This view object represents the key-value pairs of a dictionary. It provides a dynamic view of the key-value pairs, reflecting any changes made to the dictionary. It allows you to iterate over the key-value pairs or perform operations on them. The dict_items object can be obtained using the items() method of a dictionary.\n",
    "\n"
   ]
  },
  {
   "cell_type": "code",
   "execution_count": 10,
   "metadata": {},
   "outputs": [
    {
     "name": "stdout",
     "output_type": "stream",
     "text": [
      "Keys View:\n",
      "dict_keys(['Sport', 'Teams'])\n",
      "\n",
      "Values View:\n",
      "dict_values(['Cricket', ['India', 'Australia', 'England', 'South Africa', 'Sri Lanka', 'New Zealand']])\n",
      "\n",
      "Items View:\n",
      "dict_items([('Sport', 'Cricket'), ('Teams', ['India', 'Australia', 'England', 'South Africa', 'Sri Lanka', 'New Zealand'])])\n",
      "\n",
      "Iterating over Keys View:\n",
      "Sport\n",
      "Teams\n",
      "\n",
      "Iterating over Values View:\n",
      "Cricket\n",
      "['India', 'Australia', 'England', 'South Africa', 'Sri Lanka', 'New Zealand']\n",
      "\n",
      "Iterating over Items View:\n",
      "Sport Cricket\n",
      "Teams ['India', 'Australia', 'England', 'South Africa', 'Sri Lanka', 'New Zealand']\n"
     ]
    }
   ],
   "source": [
    "dict1 = {'Sport': 'Cricket', 'Teams': ['India', 'Australia', 'England', 'South Africa', 'Sri Lanka', 'New Zealand']}\n",
    "\n",
    "# Using dict_keys view object\n",
    "keys_view = dict1.keys()\n",
    "print(\"Keys View:\")\n",
    "print(keys_view)  # dict_keys(['Sport', 'Teams'])\n",
    "\n",
    "# Using dict_values view object\n",
    "values_view = dict1.values()\n",
    "print(\"\\nValues View:\")\n",
    "print(values_view)  # dict_values(['Cricket', ['India', 'Australia', 'England', 'South Africa', 'Sri Lanka', 'New Zealand']])\n",
    "\n",
    "# Using dict_items view object\n",
    "items_view = dict1.items()\n",
    "print(\"\\nItems View:\")\n",
    "print(items_view)  # dict_items([('Sport', 'Cricket'), ('Teams', ['India', 'Australia', 'England', 'South Africa', 'Sri Lanka', 'New Zealand'])])\n",
    "\n",
    "# Iterating over dict_keys view object\n",
    "print(\"\\nIterating over Keys View:\")\n",
    "for key in keys_view:\n",
    "    print(key)\n",
    "\n",
    "# Iterating over dict_values view object\n",
    "print(\"\\nIterating over Values View:\")\n",
    "for value in values_view:\n",
    "    print(value)\n",
    "\n",
    "# Iterating over dict_items view object\n",
    "print(\"\\nIterating over Items View:\")\n",
    "for key, value in items_view:\n",
    "    print(key, value)\n"
   ]
  }
 ],
 "metadata": {
  "kernelspec": {
   "display_name": "Python 3",
   "language": "python",
   "name": "python3"
  },
  "language_info": {
   "codemirror_mode": {
    "name": "ipython",
    "version": 3
   },
   "file_extension": ".py",
   "mimetype": "text/x-python",
   "name": "python",
   "nbconvert_exporter": "python",
   "pygments_lexer": "ipython3",
   "version": "3.9.13"
  },
  "orig_nbformat": 4
 },
 "nbformat": 4,
 "nbformat_minor": 2
}
